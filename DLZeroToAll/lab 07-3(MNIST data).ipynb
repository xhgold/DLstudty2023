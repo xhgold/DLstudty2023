{
 "cells": [
  {
   "cell_type": "code",
   "execution_count": 1,
   "id": "55a8ed0a",
   "metadata": {},
   "outputs": [],
   "source": [
    "import tensorflow as tf\n",
    "\n",
    "tf.random.set_seed(777)"
   ]
  },
  {
   "cell_type": "code",
   "execution_count": 2,
   "id": "f4e99f78",
   "metadata": {},
   "outputs": [],
   "source": [
    "(x_train, y_train), (x_test, y_test) = tf.keras.datasets.mnist.load_data()"
   ]
  },
  {
   "cell_type": "code",
   "execution_count": 8,
   "id": "5bbbc46d",
   "metadata": {},
   "outputs": [],
   "source": [
    "nb_classes = 10 # 0~9\n",
    "\n",
    "X = tf.constant(x_train, dtype=tf.float32)\n",
    "Y = tf.one_hot(y_train, depth=nb_classes)\n",
    "X_test = tf.constant(x_test, dtype=tf.float32)\n",
    "Y_test = tf.one_hot(y_test, depth=nb_classes)\n",
    "\n",
    "W = tf.Variable(tf.random.normal([784, nb_classes]))\n",
    "b = tf.Variable(tf.random.normal([nb_classes]))"
   ]
  },
  {
   "cell_type": "code",
   "execution_count": 4,
   "id": "0d07c5ff",
   "metadata": {},
   "outputs": [],
   "source": [
    "# hypothesis(softmax)\n",
    "def hypothesis(X):\n",
    "    return tf.nn.softmax(tf.matmul(tf.reshape(X, [-1, 784]), W) + b)\n",
    "\n",
    "# cost\n",
    "def cost_function(hypothesis, Y):\n",
    "    epsilon = 1e-8  # to avoid log(0)\n",
    "    return tf.reduce_mean(-tf.reduce_sum(Y * tf.math.log(hypothesis+epsilon), axis=1))\n",
    "\n",
    "# optimize\n",
    "optimizer = tf.optimizers.SGD(learning_rate = 0.02)\n",
    "\n",
    "# accuracy\n",
    "def accuracy(hypothesis, Y):\n",
    "    return tf.reduce_mean(tf.cast(tf.equal(tf.argmax(hypothesis, 1), tf.argmax(Y, 1)), tf.float32))"
   ]
  },
  {
   "cell_type": "code",
   "execution_count": 5,
   "id": "b8000f40",
   "metadata": {},
   "outputs": [],
   "source": [
    "# paremeters\n",
    "epochs = 30\n",
    "batch_size = 100\n",
    "iterations_num = int(len(x_train) / batch_size)"
   ]
  },
  {
   "cell_type": "code",
   "execution_count": 6,
   "id": "b21ac9d3",
   "metadata": {},
   "outputs": [
    {
     "name": "stdout",
     "output_type": "stream",
     "text": [
      "Epoch: 1, Cost: 13.929953575\n",
      "Epoch: 2, Cost: 11.186040878\n",
      "Epoch: 3, Cost: 9.198972702\n",
      "Epoch: 4, Cost: 8.397795677\n",
      "Epoch: 5, Cost: 7.870229244\n",
      "Epoch: 6, Cost: 7.390577793\n",
      "Epoch: 7, Cost: 7.075140476\n",
      "Epoch: 8, Cost: 6.715127945\n",
      "Epoch: 9, Cost: 6.630959988\n",
      "Epoch: 10, Cost: 6.593701363\n",
      "Epoch: 11, Cost: 6.379464626\n",
      "Epoch: 12, Cost: 6.279511452\n",
      "Epoch: 13, Cost: 6.233226776\n",
      "Epoch: 14, Cost: 6.110983372\n",
      "Epoch: 15, Cost: 6.038084030\n",
      "Epoch: 16, Cost: 6.087338448\n",
      "Epoch: 17, Cost: 5.941456795\n",
      "Epoch: 18, Cost: 5.954590321\n",
      "Epoch: 19, Cost: 5.957182407\n",
      "Epoch: 20, Cost: 5.906007290\n",
      "Epoch: 21, Cost: 5.935569286\n",
      "Epoch: 22, Cost: 5.882403374\n",
      "Epoch: 23, Cost: 5.845935345\n",
      "Epoch: 24, Cost: 5.783522606\n",
      "Epoch: 25, Cost: 5.799822330\n",
      "Epoch: 26, Cost: 5.811931133\n",
      "Epoch: 27, Cost: 5.757811069\n",
      "Epoch: 28, Cost: 5.666821957\n",
      "Epoch: 29, Cost: 5.699845314\n",
      "Epoch: 30, Cost: 5.808446884\n"
     ]
    }
   ],
   "source": [
    "# training\n",
    "for epoch in range(epochs):\n",
    "    cost_avg = 0\n",
    "    for i in range(iterations_num):\n",
    "        start = i * batch_size\n",
    "        end = (i+1) * batch_size\n",
    "        batch_x, batch_y = X[start:end], Y[start:end]\n",
    "        \n",
    "        with tf.GradientTape() as tape:\n",
    "            current_cost = cost_function(hypothesis(batch_x), batch_y)\n",
    "        gradients = tape.gradient(current_cost, [W, b])\n",
    "        optimizer.apply_gradients(zip(gradients, [W, b]))\n",
    "        cost_avg += current_cost/iterations_num\n",
    "\n",
    "    print(\"Epoch: {:d}, Cost: {:.9f}\".format(epoch + 1, cost_avg))"
   ]
  },
  {
   "cell_type": "code",
   "execution_count": 12,
   "id": "b2018798",
   "metadata": {},
   "outputs": [
    {
     "name": "stdout",
     "output_type": "stream",
     "text": [
      "Accuracy:  0.1201\n"
     ]
    }
   ],
   "source": [
    "# test\n",
    "print(\"Accuracy: \", accuracy(hypothesis(X_test), Y_test).numpy())"
   ]
  }
 ],
 "metadata": {
  "kernelspec": {
   "display_name": "Python 3 (ipykernel)",
   "language": "python",
   "name": "python3"
  },
  "language_info": {
   "codemirror_mode": {
    "name": "ipython",
    "version": 3
   },
   "file_extension": ".py",
   "mimetype": "text/x-python",
   "name": "python",
   "nbconvert_exporter": "python",
   "pygments_lexer": "ipython3",
   "version": "3.9.13"
  }
 },
 "nbformat": 4,
 "nbformat_minor": 5
}
