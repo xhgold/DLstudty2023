{
 "cells": [
  {
   "cell_type": "code",
   "execution_count": 1,
   "id": "9338a1ed",
   "metadata": {},
   "outputs": [],
   "source": [
    "import tensorflow as tf"
   ]
  },
  {
   "cell_type": "markdown",
   "id": "b8036405",
   "metadata": {},
   "source": [
    "### Hello!"
   ]
  },
  {
   "cell_type": "code",
   "execution_count": 2,
   "id": "a01e7ba4",
   "metadata": {},
   "outputs": [
    {
     "name": "stdout",
     "output_type": "stream",
     "text": [
      "Hello, TensorFlow!\r\n"
     ]
    }
   ],
   "source": [
    "# Create a constant op\n",
    "hello = tf.constant(\"Hello, TensorFlow!\")\n",
    "\n",
    "tf.print(hello)"
   ]
  },
  {
   "cell_type": "markdown",
   "id": "4bf0c17e",
   "metadata": {},
   "source": [
    "**In TensorFlow version1 (Tensorflow2 has no Session)**<br>\n",
    "sess = tf.Session()<br>\n",
    "print(sess.run(hello))"
   ]
  },
  {
   "cell_type": "markdown",
   "id": "5600c37a",
   "metadata": {},
   "source": [
    "### Computational Graph"
   ]
  },
  {
   "cell_type": "code",
   "execution_count": 3,
   "id": "41592d62",
   "metadata": {},
   "outputs": [],
   "source": [
    "node1 = tf.constant(3.0, tf.float32)\n",
    "node2 = tf.constant(4.0)\n",
    "node3 = tf.add(node1, node2)\n",
    "node4 = node1 + node2"
   ]
  },
  {
   "cell_type": "code",
   "execution_count": 4,
   "id": "da0c7dce",
   "metadata": {},
   "outputs": [
    {
     "name": "stdout",
     "output_type": "stream",
     "text": [
      "node1:  tf.Tensor(3.0, shape=(), dtype=float32) \n",
      "node2:  tf.Tensor(4.0, shape=(), dtype=float32)\n",
      "node3:  tf.Tensor(7.0, shape=(), dtype=float32)\n",
      "node4:  tf.Tensor(7.0, shape=(), dtype=float32)\n",
      "7.0\n"
     ]
    }
   ],
   "source": [
    "print(\"node1: \", node1, \"\\nnode2: \",node2)\n",
    "print(\"node3: \", node3)\n",
    "print(\"node4: \", node4)\n",
    "\n",
    "print(node3.numpy())"
   ]
  },
  {
   "cell_type": "code",
   "execution_count": 5,
   "id": "d6d1412a",
   "metadata": {},
   "outputs": [
    {
     "name": "stdout",
     "output_type": "stream",
     "text": [
      "[1 2]\n"
     ]
    }
   ],
   "source": [
    "a = tf.Variable([1, 2])\n",
    "print(a.numpy())"
   ]
  }
 ],
 "metadata": {
  "kernelspec": {
   "display_name": "Python 3 (ipykernel)",
   "language": "python",
   "name": "python3"
  },
  "language_info": {
   "codemirror_mode": {
    "name": "ipython",
    "version": 3
   },
   "file_extension": ".py",
   "mimetype": "text/x-python",
   "name": "python",
   "nbconvert_exporter": "python",
   "pygments_lexer": "ipython3",
   "version": "3.9.13"
  }
 },
 "nbformat": 4,
 "nbformat_minor": 5
}
