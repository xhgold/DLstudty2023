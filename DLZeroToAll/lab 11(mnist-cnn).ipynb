{
 "cells": [
  {
   "cell_type": "code",
   "execution_count": 1,
   "id": "c8b1262f",
   "metadata": {},
   "outputs": [],
   "source": [
    "import tensorflow as tf\n",
    "from tensorflow.keras import layers\n",
    "import numpy as np\n",
    "\n",
    "tf.random.set_seed(777)"
   ]
  },
  {
   "cell_type": "code",
   "execution_count": 2,
   "id": "d78f26d0",
   "metadata": {},
   "outputs": [],
   "source": [
    "(x_train, y_train), (x_test, y_test) = tf.keras.datasets.mnist.load_data()"
   ]
  },
  {
   "cell_type": "code",
   "execution_count": 3,
   "id": "85fc5a86",
   "metadata": {},
   "outputs": [],
   "source": [
    "X_train_img = tf.reshape(x_train, [-1, 28, 28, 1])\n",
    "X_train_img /= 255 # convert value to 0~1\n",
    "Y_train = tf.one_hot(y_train, depth=10)\n",
    "\n",
    "X_test_img = tf.reshape(x_test, [-1, 28, 28, 1])\n",
    "X_test_img /= 255 # convert value to 0~1\n",
    "Y_test = tf.one_hot(y_test, depth=10)"
   ]
  },
  {
   "cell_type": "code",
   "execution_count": 4,
   "id": "c510c7d1",
   "metadata": {},
   "outputs": [],
   "source": [
    "# modeling\n",
    "def cnn_model():\n",
    "    model = tf.keras.Sequential([\n",
    "        tf.keras.Input(shape=(28, 28, 1)),\n",
    "    ])\n",
    "\n",
    "    model.add(layers.Conv2D(32, (3, 3), activation='relu', padding='SAME'))\n",
    "    model.add(layers.Conv2D(64, (3, 3), activation='relu', padding='SAME'))\n",
    "    model.add(layers.MaxPool2D(padding='SAME'))\n",
    "    model.add(layers.Flatten())\n",
    "    model.add(layers.Dense(10, activation='softmax'))\n",
    "    layers.Softmax()\n",
    "    return model"
   ]
  },
  {
   "cell_type": "code",
   "execution_count": 5,
   "id": "ae316da7",
   "metadata": {},
   "outputs": [
    {
     "name": "stdout",
     "output_type": "stream",
     "text": [
      "Model: \"sequential\"\n",
      "_________________________________________________________________\n",
      " Layer (type)                Output Shape              Param #   \n",
      "=================================================================\n",
      " conv2d (Conv2D)             (None, 28, 28, 32)        320       \n",
      "                                                                 \n",
      " conv2d_1 (Conv2D)           (None, 28, 28, 64)        18496     \n",
      "                                                                 \n",
      " max_pooling2d (MaxPooling2  (None, 14, 14, 64)        0         \n",
      " D)                                                              \n",
      "                                                                 \n",
      " flatten (Flatten)           (None, 12544)             0         \n",
      "                                                                 \n",
      " dense (Dense)               (None, 10)                125450    \n",
      "                                                                 \n",
      "=================================================================\n",
      "Total params: 144266 (563.54 KB)\n",
      "Trainable params: 144266 (563.54 KB)\n",
      "Non-trainable params: 0 (0.00 Byte)\n",
      "_________________________________________________________________\n"
     ]
    }
   ],
   "source": [
    "model = cnn_model()\n",
    "model.summary()"
   ]
  },
  {
   "cell_type": "code",
   "execution_count": 6,
   "id": "64b48328",
   "metadata": {},
   "outputs": [],
   "source": [
    "# hyper parameters\n",
    "learning_rate = 0.01\n",
    "epochs = 10\n",
    "batch_size = 32"
   ]
  },
  {
   "cell_type": "code",
   "execution_count": 7,
   "id": "1a257927",
   "metadata": {},
   "outputs": [
    {
     "name": "stdout",
     "output_type": "stream",
     "text": [
      "Epoch 1/10\n",
      "1875/1875 [==============================] - 100s 53ms/step - loss: 0.1208 - accuracy: 0.9634\n",
      "Epoch 2/10\n",
      "1875/1875 [==============================] - 100s 53ms/step - loss: 0.0625 - accuracy: 0.9811\n",
      "Epoch 3/10\n",
      "1875/1875 [==============================] - 101s 54ms/step - loss: 0.0500 - accuracy: 0.9849\n",
      "Epoch 4/10\n",
      "1875/1875 [==============================] - 101s 54ms/step - loss: 0.0444 - accuracy: 0.9868\n",
      "Epoch 5/10\n",
      "1875/1875 [==============================] - 99s 53ms/step - loss: 0.0426 - accuracy: 0.9871\n",
      "Epoch 6/10\n",
      "1875/1875 [==============================] - 101s 54ms/step - loss: 0.0375 - accuracy: 0.9896\n",
      "Epoch 7/10\n",
      "1875/1875 [==============================] - 99s 53ms/step - loss: 0.0346 - accuracy: 0.9906\n",
      "Epoch 8/10\n",
      "1875/1875 [==============================] - 99s 53ms/step - loss: 0.0329 - accuracy: 0.9916\n",
      "Epoch 9/10\n",
      "1875/1875 [==============================] - 102s 54ms/step - loss: 0.0373 - accuracy: 0.9907\n",
      "Epoch 10/10\n",
      "1875/1875 [==============================] - 107s 57ms/step - loss: 0.0325 - accuracy: 0.9920\n"
     ]
    },
    {
     "data": {
      "text/plain": [
       "<keras.src.callbacks.History at 0x1af17b47c70>"
      ]
     },
     "execution_count": 7,
     "metadata": {},
     "output_type": "execute_result"
    }
   ],
   "source": [
    "# training\n",
    "model.compile(optimizer=tf.keras.optimizers.Adam(learning_rate),  \n",
    "              loss='categorical_crossentropy',  \n",
    "              metrics=['accuracy'])\n",
    "\n",
    "model.fit(X_train_img, Y_train, batch_size=batch_size, epochs=epochs, shuffle=True)"
   ]
  },
  {
   "cell_type": "code",
   "execution_count": 8,
   "id": "6daf1a4e",
   "metadata": {},
   "outputs": [
    {
     "name": "stdout",
     "output_type": "stream",
     "text": [
      "Test Loss: 0.1395\n",
      "Test Accuracy: 0.9799\n"
     ]
    }
   ],
   "source": [
    "# testing\n",
    "test_loss, test_accuracy = model.evaluate(X_test_img, Y_test, verbose=0)\n",
    "\n",
    "print(f'Test Loss: {test_loss:.4f}')\n",
    "print(f'Test Accuracy: {test_accuracy:.4f}')"
   ]
  }
 ],
 "metadata": {
  "kernelspec": {
   "display_name": "Python 3 (ipykernel)",
   "language": "python",
   "name": "python3"
  },
  "language_info": {
   "codemirror_mode": {
    "name": "ipython",
    "version": 3
   },
   "file_extension": ".py",
   "mimetype": "text/x-python",
   "name": "python",
   "nbconvert_exporter": "python",
   "pygments_lexer": "ipython3",
   "version": "3.9.13"
  }
 },
 "nbformat": 4,
 "nbformat_minor": 5
}
