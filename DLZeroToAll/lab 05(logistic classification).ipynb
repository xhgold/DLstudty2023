{
 "cells": [
  {
   "cell_type": "code",
   "execution_count": 1,
   "id": "df1d4d4a",
   "metadata": {},
   "outputs": [],
   "source": [
    "import tensorflow as tf\n",
    "import numpy as np\n",
    "tf.random.set_seed(777)"
   ]
  },
  {
   "cell_type": "code",
   "execution_count": 2,
   "id": "0ab9cfc8",
   "metadata": {},
   "outputs": [
    {
     "name": "stdout",
     "output_type": "stream",
     "text": [
      "(759, 8) (759, 1)\n"
     ]
    }
   ],
   "source": [
    "xy = np.loadtxt('data-03-diabetes.csv', delimiter=',', dtype=np.float32)\n",
    "x_data = xy[:, :-1]\n",
    "y_data = xy[:, [-1]]\n",
    "\n",
    "print(x_data.shape, y_data.shape)"
   ]
  },
  {
   "cell_type": "code",
   "execution_count": 3,
   "id": "b4d8b574",
   "metadata": {},
   "outputs": [],
   "source": [
    "X = tf.keras.Input(shape=(8, ), dtype=tf.float32)\n",
    "Y = tf.keras.Input(shape=(1, ), dtype=tf.float32)\n",
    "\n",
    "W = tf.Variable(tf.random.normal([8, 1]), name='weight')\n",
    "b = tf.Variable(tf.random.normal([1]), name='bias')"
   ]
  },
  {
   "cell_type": "code",
   "execution_count": 4,
   "id": "64473867",
   "metadata": {},
   "outputs": [],
   "source": [
    "# hypothesis(use sigmoid)\n",
    "def hypothesis(X):\n",
    "    return tf.sigmoid(tf.matmul(X, W) + b)\n",
    "\n",
    "# cost function\n",
    "def cost_function(hypothesis, Y):\n",
    "    return -tf.reduce_mean(Y*tf.math.log(hypothesis) + (1-Y)*tf.math.log(1-hypothesis))\n",
    "\n",
    "# optimize/minimize\n",
    "optimizer = tf.optimizers.SGD(learning_rate=0.01)"
   ]
  },
  {
   "cell_type": "code",
   "execution_count": 5,
   "id": "5c7de0d8",
   "metadata": {},
   "outputs": [],
   "source": [
    "# accuracy\n",
    "def predicted(hypothesis):\n",
    "    return tf.cast(hypothesis > 0.5, dtype=tf.float32)\n",
    "\n",
    "def accuracy(predict, Y):\n",
    "    return tf.reduce_mean(tf.cast(tf.equal(predict, Y), dtype=tf.float32))"
   ]
  },
  {
   "cell_type": "code",
   "execution_count": 6,
   "id": "b3c882c0",
   "metadata": {},
   "outputs": [],
   "source": [
    "X = x_data\n",
    "Y = y_data"
   ]
  },
  {
   "cell_type": "code",
   "execution_count": 7,
   "id": "ca20fd3d",
   "metadata": {},
   "outputs": [
    {
     "name": "stdout",
     "output_type": "stream",
     "text": [
      "Accuracy:  0.342556\n",
      "Accuracy:  0.33465084\n",
      "Accuracy:  0.42687747\n",
      "Accuracy:  0.5032938\n",
      "Accuracy:  0.54677206\n",
      "Accuracy:  0.5770751\n",
      "Accuracy:  0.5942029\n",
      "Accuracy:  0.60474306\n",
      "Accuracy:  0.6166008\n",
      "Accuracy:  0.6218709\n",
      "Accuracy:  0.62582344\n",
      "Accuracy:  0.627141\n",
      "Accuracy:  0.63109356\n",
      "Accuracy:  0.63109356\n",
      "Accuracy:  0.63372856\n",
      "Accuracy:  0.6403162\n",
      "Accuracy:  0.64295125\n",
      "Accuracy:  0.65349144\n",
      "Accuracy:  0.6627141\n",
      "Accuracy:  0.6666667\n",
      "Accuracy:  0.6785244\n",
      "Accuracy:  0.6798419\n",
      "Accuracy:  0.68379444\n",
      "Accuracy:  0.68774706\n",
      "Accuracy:  0.68774706\n",
      "Accuracy:  0.68774706\n",
      "Accuracy:  0.6956522\n",
      "Accuracy:  0.7022398\n",
      "Accuracy:  0.7048748\n",
      "Accuracy:  0.71014494\n",
      "Accuracy:  0.7140975\n",
      "Accuracy:  0.71673256\n",
      "Accuracy:  0.71673256\n",
      "Accuracy:  0.7206851\n",
      "Accuracy:  0.7220026\n",
      "Accuracy:  0.7246377\n",
      "Accuracy:  0.72727275\n",
      "Accuracy:  0.7312253\n",
      "Accuracy:  0.7338603\n",
      "Accuracy:  0.7338603\n",
      "Accuracy:  0.7338603\n",
      "Accuracy:  0.7312253\n",
      "Accuracy:  0.72990775\n",
      "Accuracy:  0.7325428\n",
      "Accuracy:  0.7338603\n",
      "Accuracy:  0.7351779\n",
      "Accuracy:  0.73913044\n",
      "Accuracy:  0.74044794\n",
      "Accuracy:  0.7417655\n",
      "Accuracy:  0.743083\n",
      "Accuracy:  0.7444005\n",
      "Accuracy:  0.74703556\n",
      "Accuracy:  0.7483531\n",
      "Accuracy:  0.7483531\n",
      "Accuracy:  0.7509881\n",
      "Accuracy:  0.7536232\n",
      "Accuracy:  0.7536232\n",
      "Accuracy:  0.75625825\n",
      "Accuracy:  0.7549407\n",
      "Accuracy:  0.75889325\n",
      "Accuracy:  0.75889325\n",
      "Accuracy:  0.7602108\n",
      "Accuracy:  0.7602108\n",
      "Accuracy:  0.75889325\n",
      "Accuracy:  0.7615283\n",
      "Accuracy:  0.7615283\n",
      "Accuracy:  0.7628459\n",
      "Accuracy:  0.7628459\n",
      "Accuracy:  0.7615283\n",
      "Accuracy:  0.7615283\n",
      "Accuracy:  0.7615283\n",
      "Accuracy:  0.7615283\n",
      "Accuracy:  0.7628459\n",
      "Accuracy:  0.7654809\n",
      "Accuracy:  0.76679844\n",
      "Accuracy:  0.76811594\n",
      "Accuracy:  0.76679844\n",
      "Accuracy:  0.76811594\n",
      "Accuracy:  0.76943344\n",
      "Accuracy:  0.76811594\n",
      "Accuracy:  0.76811594\n",
      "Accuracy:  0.76679844\n",
      "Accuracy:  0.76679844\n",
      "Accuracy:  0.76679844\n",
      "Accuracy:  0.76679844\n",
      "Accuracy:  0.7654809\n",
      "Accuracy:  0.7641634\n",
      "Accuracy:  0.7641634\n",
      "Accuracy:  0.7641634\n",
      "Accuracy:  0.7654809\n",
      "Accuracy:  0.7641634\n",
      "Accuracy:  0.7641634\n",
      "Accuracy:  0.7641634\n",
      "Accuracy:  0.7641634\n",
      "Accuracy:  0.7641634\n",
      "Accuracy:  0.7641634\n",
      "Accuracy:  0.7628459\n",
      "Accuracy:  0.7628459\n",
      "Accuracy:  0.7628459\n",
      "Accuracy:  0.7628459\n",
      "Accuracy:  0.7628459\n"
     ]
    }
   ],
   "source": [
    "for step in range(10001):\n",
    "    with tf.GradientTape() as tape:\n",
    "        current_cost = cost_function(hypothesis(X), Y)\n",
    "    gradients = tape.gradient(current_cost, [W, b])\n",
    "    optimizer.apply_gradients(zip(gradients, [W, b]))\n",
    "    \n",
    "    if step % 100 == 0:\n",
    "        p = predicted(hypothesis(X))\n",
    "        print(\"Accuracy: \", accuracy(p, Y).numpy())"
   ]
  },
  {
   "cell_type": "code",
   "execution_count": null,
   "id": "6e99f1a0",
   "metadata": {},
   "outputs": [],
   "source": []
  }
 ],
 "metadata": {
  "kernelspec": {
   "display_name": "Python 3 (ipykernel)",
   "language": "python",
   "name": "python3"
  },
  "language_info": {
   "codemirror_mode": {
    "name": "ipython",
    "version": 3
   },
   "file_extension": ".py",
   "mimetype": "text/x-python",
   "name": "python",
   "nbconvert_exporter": "python",
   "pygments_lexer": "ipython3",
   "version": "3.9.13"
  }
 },
 "nbformat": 4,
 "nbformat_minor": 5
}
