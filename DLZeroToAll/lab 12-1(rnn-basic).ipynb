{
 "cells": [
  {
   "cell_type": "code",
   "execution_count": 1,
   "id": "255538c2",
   "metadata": {},
   "outputs": [],
   "source": [
    "import tensorflow as tf\n",
    "from tensorflow import keras\n",
    "tf.random.set_seed(777)"
   ]
  },
  {
   "cell_type": "code",
   "execution_count": 2,
   "id": "743724b5",
   "metadata": {},
   "outputs": [],
   "source": [
    "num_classes = 5\n",
    "input_dim = 5  # one-hot size\n",
    "hidden_size = 5  # output from the LSTM\n",
    "batch_size = 1   # one sentence\n",
    "sequence_length = 6  # ihello\n",
    "learning_rate = 0.1\n",
    "epochs = 50"
   ]
  },
  {
   "cell_type": "code",
   "execution_count": 3,
   "id": "ad300d0d",
   "metadata": {},
   "outputs": [],
   "source": [
    "idx2char = ['h', 'i', 'e', 'l', 'o']\n",
    "\n",
    "# teach hello: hihell -> ihello\n",
    "x_data = [[0, 1, 0, 2, 3, 3]]   # hihell\n",
    "x_one_hot = tf.one_hot(x_data, num_classes)\n",
    "y_data = [[1, 0, 2, 3, 3, 4]]    # ihello"
   ]
  },
  {
   "cell_type": "code",
   "execution_count": 4,
   "id": "66c6f40b",
   "metadata": {},
   "outputs": [],
   "source": [
    "# create dataset\n",
    "dataset = tf.data.Dataset.from_tensor_slices((x_one_hot, y_data)).batch(batch_size)"
   ]
  },
  {
   "cell_type": "code",
   "execution_count": 5,
   "id": "61ce832e",
   "metadata": {},
   "outputs": [
    {
     "data": {
      "text/plain": [
       "<_BatchDataset element_spec=(TensorSpec(shape=(None, 6, 5), dtype=tf.float32, name=None), TensorSpec(shape=(None, 6), dtype=tf.int32, name=None))>"
      ]
     },
     "execution_count": 5,
     "metadata": {},
     "output_type": "execute_result"
    }
   ],
   "source": [
    "dataset"
   ]
  },
  {
   "cell_type": "code",
   "execution_count": 6,
   "id": "eab66ed5",
   "metadata": {},
   "outputs": [],
   "source": [
    "def rnn_model():\n",
    "    model = tf.keras.Sequential([\n",
    "        tf.keras.layers.LSTM(hidden_size, return_sequences=True, stateful=True),\n",
    "        tf.keras.layers.Dense(num_classes)\n",
    "    ])\n",
    "    return model"
   ]
  },
  {
   "cell_type": "code",
   "execution_count": 7,
   "id": "c30da9d0",
   "metadata": {},
   "outputs": [],
   "source": [
    "# cost function\n",
    "def loss_function(model, x, y):\n",
    "    logits = model(x)\n",
    "    return tf.reduce_mean(keras.losses.sparse_categorical_crossentropy(y, logits, from_logits=True))\n",
    "\n",
    "# optimize\n",
    "optimizer = keras.optimizers.Adam(learning_rate=learning_rate)"
   ]
  },
  {
   "cell_type": "code",
   "execution_count": 8,
   "id": "845e571a",
   "metadata": {},
   "outputs": [
    {
     "name": "stdout",
     "output_type": "stream",
     "text": [
      "Epoch 1, Loss: 1.6062116622924805\n",
      "Prediction str: hhhhh\n",
      "Epoch 2, Loss: 1.5579748153686523\n",
      "Prediction str: hhhhh\n",
      "Epoch 3, Loss: 1.4895553588867188\n",
      "Prediction str: hhhhh\n",
      "Epoch 4, Loss: 1.4215855598449707\n",
      "Prediction str: hhhhh\n",
      "Epoch 5, Loss: 1.3260153532028198\n",
      "Prediction str: hhhhh\n",
      "Epoch 6, Loss: 1.210224986076355\n",
      "Prediction str: hhhhh\n",
      "Epoch 7, Loss: 1.0659083127975464\n",
      "Prediction str: hhhhh\n",
      "Epoch 8, Loss: 0.9099225997924805\n",
      "Prediction str: hhhhh\n",
      "Epoch 9, Loss: 0.7700164318084717\n",
      "Prediction str: hhhhh\n",
      "Epoch 10, Loss: 0.6491644978523254\n",
      "Prediction str: hhhhh\n",
      "Epoch 11, Loss: 0.5405043959617615\n",
      "Prediction str: hhhhh\n",
      "Epoch 12, Loss: 0.4360748827457428\n",
      "Prediction str: hhhhh\n",
      "Epoch 13, Loss: 0.34126606583595276\n",
      "Prediction str: hhhhh\n",
      "Epoch 14, Loss: 0.2604968845844269\n",
      "Prediction str: hhhhh\n",
      "Epoch 15, Loss: 0.1956607848405838\n",
      "Prediction str: hhhhh\n",
      "Epoch 16, Loss: 0.14693088829517365\n",
      "Prediction str: hhhhh\n",
      "Epoch 17, Loss: 0.11136766523122787\n",
      "Prediction str: hhhhh\n",
      "Epoch 18, Loss: 0.0854882225394249\n",
      "Prediction str: hhhhh\n",
      "Epoch 19, Loss: 0.0665227398276329\n",
      "Prediction str: hhhhh\n",
      "Epoch 20, Loss: 0.05251244828104973\n",
      "Prediction str: hhhhh\n",
      "Epoch 21, Loss: 0.042095232754945755\n",
      "Prediction str: hhhhh\n",
      "Epoch 22, Loss: 0.03428348898887634\n",
      "Prediction str: hhhhh\n",
      "Epoch 23, Loss: 0.028345132246613503\n",
      "Prediction str: hhhhh\n",
      "Epoch 24, Loss: 0.023745497688651085\n",
      "Prediction str: hhhhh\n",
      "Epoch 25, Loss: 0.020106516778469086\n",
      "Prediction str: hhhhh\n",
      "Epoch 26, Loss: 0.01716805249452591\n",
      "Prediction str: hhhhh\n",
      "Epoch 27, Loss: 0.014754810370504856\n",
      "Prediction str: hhhhh\n",
      "Epoch 28, Loss: 0.012748339213430882\n",
      "Prediction str: hhhhh\n",
      "Epoch 29, Loss: 0.011066303588449955\n",
      "Prediction str: hhhhh\n",
      "Epoch 30, Loss: 0.009649221785366535\n",
      "Prediction str: hhhhh\n",
      "Epoch 31, Loss: 0.008452020585536957\n",
      "Prediction str: hhhhh\n",
      "Epoch 32, Loss: 0.007439110428094864\n",
      "Prediction str: hhhhh\n",
      "Epoch 33, Loss: 0.006581255700439215\n",
      "Prediction str: hhhhh\n",
      "Epoch 34, Loss: 0.0058541931211948395\n",
      "Prediction str: hhhhh\n",
      "Epoch 35, Loss: 0.00523729482665658\n",
      "Prediction str: hhhhh\n",
      "Epoch 36, Loss: 0.004712905269116163\n",
      "Prediction str: hhhhh\n",
      "Epoch 37, Loss: 0.004266390111297369\n",
      "Prediction str: hhhhh\n",
      "Epoch 38, Loss: 0.0038850493729114532\n",
      "Prediction str: hhhhh\n",
      "Epoch 39, Loss: 0.003558274358510971\n",
      "Prediction str: hhhhh\n",
      "Epoch 40, Loss: 0.0032774601131677628\n",
      "Prediction str: hhhhh\n",
      "Epoch 41, Loss: 0.003035185160115361\n",
      "Prediction str: hhhhh\n",
      "Epoch 42, Loss: 0.002825256437063217\n",
      "Prediction str: hhhhh\n",
      "Epoch 43, Loss: 0.002642795443534851\n",
      "Prediction str: hhhhh\n",
      "Epoch 44, Loss: 0.002483389573171735\n",
      "Prediction str: hhhhh\n",
      "Epoch 45, Loss: 0.002343550557270646\n",
      "Prediction str: hhhhh\n",
      "Epoch 46, Loss: 0.002220339374616742\n",
      "Prediction str: hhhhh\n",
      "Epoch 47, Loss: 0.0021113886032253504\n",
      "Prediction str: hhhhh\n",
      "Epoch 48, Loss: 0.002014446072280407\n",
      "Prediction str: hhhhh\n",
      "Epoch 49, Loss: 0.0019279721891507506\n",
      "Prediction str: hhhhh\n",
      "Epoch 50, Loss: 0.0018504444742575288\n",
      "Prediction str: hhhhh\n"
     ]
    }
   ],
   "source": [
    "model = rnn_model()\n",
    "# training\n",
    "for epoch in range(epochs):\n",
    "    total_loss = 0.0\n",
    "    for x, y in dataset:\n",
    "        with tf.GradientTape() as tape:\n",
    "            loss = loss_function(model, x, y)\n",
    "        gradients = tape.gradient(loss, model.trainable_variables)\n",
    "        optimizer.apply_gradients(zip(gradients, model.trainable_variables))\n",
    "        total_loss += loss\n",
    "    print(f\"Epoch {epoch + 1}, Loss: {total_loss}\")\n",
    "\n",
    "    # testing\n",
    "    results = model(x_one_hot)\n",
    "    predicted_indices = tf.argmax(results)\n",
    "    predicted_chars = [idx2char[idx] for idx in predicted_indices[0].numpy()]\n",
    "    print(f\"Prediction str: {''.join(predicted_chars)}\")"
   ]
  },
  {
   "cell_type": "code",
   "execution_count": null,
   "id": "3ebe6813",
   "metadata": {},
   "outputs": [],
   "source": []
  }
 ],
 "metadata": {
  "kernelspec": {
   "display_name": "Python 3 (ipykernel)",
   "language": "python",
   "name": "python3"
  },
  "language_info": {
   "codemirror_mode": {
    "name": "ipython",
    "version": 3
   },
   "file_extension": ".py",
   "mimetype": "text/x-python",
   "name": "python",
   "nbconvert_exporter": "python",
   "pygments_lexer": "ipython3",
   "version": "3.9.13"
  }
 },
 "nbformat": 4,
 "nbformat_minor": 5
}
